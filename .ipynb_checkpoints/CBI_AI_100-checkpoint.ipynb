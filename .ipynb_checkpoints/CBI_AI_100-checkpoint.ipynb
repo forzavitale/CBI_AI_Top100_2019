{
 "cells": [
  {
   "cell_type": "code",
   "execution_count": 1,
   "metadata": {},
   "outputs": [],
   "source": [
    "import pandas as pd\n",
    "import numpy as np\n",
    "import matplotlib.pyplot as plt\n",
    "\n",
    "%matplotlib inline"
   ]
  },
  {
   "cell_type": "code",
   "execution_count": 2,
   "metadata": {},
   "outputs": [
    {
     "name": "stdout",
     "output_type": "stream",
     "text": [
      "100\n"
     ]
    },
    {
     "data": {
      "text/html": [
       "<div>\n",
       "<style scoped>\n",
       "    .dataframe tbody tr th:only-of-type {\n",
       "        vertical-align: middle;\n",
       "    }\n",
       "\n",
       "    .dataframe tbody tr th {\n",
       "        vertical-align: top;\n",
       "    }\n",
       "\n",
       "    .dataframe thead th {\n",
       "        text-align: right;\n",
       "    }\n",
       "</style>\n",
       "<table border=\"1\" class=\"dataframe\">\n",
       "  <thead>\n",
       "    <tr style=\"text-align: right;\">\n",
       "      <th></th>\n",
       "      <th>company</th>\n",
       "      <th>sector</th>\n",
       "      <th>focus area</th>\n",
       "      <th>total disclosed\n",
       "funding ($m)</th>\n",
       "      <th>country</th>\n",
       "      <th>select investors</th>\n",
       "    </tr>\n",
       "  </thead>\n",
       "  <tbody>\n",
       "    <tr>\n",
       "      <th>0</th>\n",
       "      <td>4Paradigm</td>\n",
       "      <td>Finance &amp; Insurance</td>\n",
       "      <td>Anti-Fraud</td>\n",
       "      <td>145</td>\n",
       "      <td>China</td>\n",
       "      <td>Agricultural Bank of China, Bank of China, Chi...</td>\n",
       "    </tr>\n",
       "    <tr>\n",
       "      <th>1</th>\n",
       "      <td>ABEJA</td>\n",
       "      <td>Retail</td>\n",
       "      <td>Analytics</td>\n",
       "      <td>45.4</td>\n",
       "      <td>Japan</td>\n",
       "      <td>Google, Mitsubishi UFJ Capital, Mizuho Capital...</td>\n",
       "    </tr>\n",
       "    <tr>\n",
       "      <th>2</th>\n",
       "      <td>AEye</td>\n",
       "      <td>Auto</td>\n",
       "      <td>Perception</td>\n",
       "      <td>61.62</td>\n",
       "      <td>United States</td>\n",
       "      <td>Airbus Ventures, Intel Capital, Kleiner Perkin...</td>\n",
       "    </tr>\n",
       "    <tr>\n",
       "      <th>3</th>\n",
       "      <td>Agari Data</td>\n",
       "      <td>Enterprise Tech</td>\n",
       "      <td>Cybersecurity</td>\n",
       "      <td>86.5</td>\n",
       "      <td>United States</td>\n",
       "      <td>Battery Ventures, First Round Capital, Goldman...</td>\n",
       "    </tr>\n",
       "    <tr>\n",
       "      <th>4</th>\n",
       "      <td>AI Foundation</td>\n",
       "      <td>Media</td>\n",
       "      <td>Fake News Detection</td>\n",
       "      <td>10</td>\n",
       "      <td>United States</td>\n",
       "      <td>Biz Stone, Endeavor, Founders Fund, You &amp; Mr J...</td>\n",
       "    </tr>\n",
       "  </tbody>\n",
       "</table>\n",
       "</div>"
      ],
      "text/plain": [
       "         company               sector           focus area  \\\n",
       "0      4Paradigm  Finance & Insurance           Anti-Fraud   \n",
       "1          ABEJA               Retail            Analytics   \n",
       "2           AEye                 Auto           Perception   \n",
       "3     Agari Data      Enterprise Tech        Cybersecurity   \n",
       "4  AI Foundation                Media  Fake News Detection   \n",
       "\n",
       "  total disclosed\\nfunding ($m)        country  \\\n",
       "0                           145          China   \n",
       "1                          45.4          Japan   \n",
       "2                         61.62  United States   \n",
       "3                          86.5  United States   \n",
       "4                            10  United States   \n",
       "\n",
       "                                    select investors  \n",
       "0  Agricultural Bank of China, Bank of China, Chi...  \n",
       "1  Google, Mitsubishi UFJ Capital, Mizuho Capital...  \n",
       "2  Airbus Ventures, Intel Capital, Kleiner Perkin...  \n",
       "3  Battery Ventures, First Round Capital, Goldman...  \n",
       "4  Biz Stone, Endeavor, Founders Fund, You & Mr J...  "
      ]
     },
     "execution_count": 2,
     "metadata": {},
     "output_type": "execute_result"
    }
   ],
   "source": [
    "df = pd.read_excel('assets/CBI_AI-100_reportlist.xlsx')\n",
    "df.reset_index(drop = True, inplace = True)\n",
    "df.columns = [x.lower() for x in df.loc[1, :]]\n",
    "df = df.loc[2:, :]\n",
    "df.reset_index(drop = True, inplace = True)\n",
    "print(len(df))\n",
    "\n",
    "df.head()"
   ]
  },
  {
   "cell_type": "code",
   "execution_count": 3,
   "metadata": {},
   "outputs": [
    {
     "name": "stdout",
     "output_type": "stream",
     "text": [
      "Industrials \n",
      " ['Energy Disaggregation', 'Material Discovery', 'IIoT', 'Quality Inspection'] \n",
      "\n",
      "Legal, Compliance, & HR \n",
      " ['Augmented Writing', 'Onboarding & Compliance', 'Contract Review'] \n",
      "\n",
      "Semiconductor \n",
      " ['Data Centers', 'Edge Devices'] \n",
      "\n",
      "Healthcare \n",
      " ['Administrative', 'Imaging & Diagnostics', 'Operating Room', 'Mental Health', 'Drug R&D', 'Remote Monitoring'] \n",
      "\n",
      "Retail \n",
      " ['Anti-Fraud', 'Checkout-Free Store Tech', 'Analytics', 'AI Assistant'] \n",
      "\n",
      "Media \n",
      " ['Motion Pictures', 'Fake News Detection'] \n",
      "\n",
      "Finance & Insurance \n",
      " ['Anti-Fraud', 'Behavioral Analytics', 'Auditing'] \n",
      "\n",
      "Agriculture \n",
      " ['Crop Monitoring', 'Agricultural Biotech'] \n",
      "\n",
      "Enterprise Tech \n",
      " ['Other: RPA', 'Other: RL Platform', 'Training Data', 'Other', 'Other: Alternative Data', 'Data Management', 'Ads, Sales, & Marketing', 'Software Development', 'Cybersecurity'] \n",
      "\n",
      "Real estate \n",
      " ['Asset Management', '3D Modeling'] \n",
      "\n",
      "Government \n",
      " ['Security', 'Disaster Management'] \n",
      "\n",
      "Auto \n",
      " ['Perception', 'Driver Safety', 'Mapping', 'AV'] \n",
      "\n",
      "Telecom \n",
      " ['WLAN'] \n",
      "\n",
      "Finance & Insurance \n",
      " ['Anti-Fraud', 'Back Office Automation'] \n",
      "\n"
     ]
    }
   ],
   "source": [
    "sector_dict = {}\n",
    "for sector in list(set(df['sector'])):\n",
    "    lil_df = df[df['sector'] == sector]\n",
    "    sector_dict.update({sector : list(set(lil_df['focus area']))})\n",
    "    \n",
    "for key in list(sector_dict.keys()):\n",
    "    print(key, '\\n', sector_dict[key], '\\n')"
   ]
  },
  {
   "cell_type": "code",
   "execution_count": 4,
   "metadata": {},
   "outputs": [
    {
     "data": {
      "text/html": [
       "<div>\n",
       "<style scoped>\n",
       "    .dataframe tbody tr th:only-of-type {\n",
       "        vertical-align: middle;\n",
       "    }\n",
       "\n",
       "    .dataframe tbody tr th {\n",
       "        vertical-align: top;\n",
       "    }\n",
       "\n",
       "    .dataframe thead th {\n",
       "        text-align: right;\n",
       "    }\n",
       "</style>\n",
       "<table border=\"1\" class=\"dataframe\">\n",
       "  <thead>\n",
       "    <tr style=\"text-align: right;\">\n",
       "      <th></th>\n",
       "      <th>company</th>\n",
       "      <th>sector</th>\n",
       "      <th>focus area</th>\n",
       "      <th>total disclosed\n",
       "funding ($m)</th>\n",
       "      <th>country</th>\n",
       "      <th>select investors</th>\n",
       "    </tr>\n",
       "  </thead>\n",
       "  <tbody>\n",
       "    <tr>\n",
       "      <th>4</th>\n",
       "      <td>AI Foundation</td>\n",
       "      <td>Media</td>\n",
       "      <td>Fake News Detection</td>\n",
       "      <td>10</td>\n",
       "      <td>United States</td>\n",
       "      <td>Biz Stone, Endeavor, Founders Fund, You &amp; Mr J...</td>\n",
       "    </tr>\n",
       "    <tr>\n",
       "      <th>64</th>\n",
       "      <td>New Knowledge</td>\n",
       "      <td>Media</td>\n",
       "      <td>Fake News Detection</td>\n",
       "      <td>13.12</td>\n",
       "      <td>United States</td>\n",
       "      <td>Capital Factory, GGV Capital, Lux Capital, Moo...</td>\n",
       "    </tr>\n",
       "  </tbody>\n",
       "</table>\n",
       "</div>"
      ],
      "text/plain": [
       "          company sector           focus area total disclosed\\nfunding ($m)  \\\n",
       "4   AI Foundation  Media  Fake News Detection                            10   \n",
       "64  New Knowledge  Media  Fake News Detection                         13.12   \n",
       "\n",
       "          country                                   select investors  \n",
       "4   United States  Biz Stone, Endeavor, Founders Fund, You & Mr J...  \n",
       "64  United States  Capital Factory, GGV Capital, Lux Capital, Moo...  "
      ]
     },
     "execution_count": 4,
     "metadata": {},
     "output_type": "execute_result"
    }
   ],
   "source": [
    "df[df['focus area'] == 'Fake News Detection']"
   ]
  },
  {
   "cell_type": "code",
   "execution_count": 5,
   "metadata": {},
   "outputs": [
    {
     "data": {
      "text/html": [
       "<div>\n",
       "<style scoped>\n",
       "    .dataframe tbody tr th:only-of-type {\n",
       "        vertical-align: middle;\n",
       "    }\n",
       "\n",
       "    .dataframe tbody tr th {\n",
       "        vertical-align: top;\n",
       "    }\n",
       "\n",
       "    .dataframe thead th {\n",
       "        text-align: right;\n",
       "    }\n",
       "</style>\n",
       "<table border=\"1\" class=\"dataframe\">\n",
       "  <thead>\n",
       "    <tr style=\"text-align: right;\">\n",
       "      <th></th>\n",
       "      <th>company</th>\n",
       "      <th>sector</th>\n",
       "      <th>focus area</th>\n",
       "      <th>total disclosed\n",
       "funding ($m)</th>\n",
       "      <th>country</th>\n",
       "      <th>select investors</th>\n",
       "    </tr>\n",
       "  </thead>\n",
       "  <tbody>\n",
       "    <tr>\n",
       "      <th>34</th>\n",
       "      <td>Face++</td>\n",
       "      <td>Government</td>\n",
       "      <td>Security</td>\n",
       "      <td>608</td>\n",
       "      <td>China</td>\n",
       "      <td>Ant Financial Services Group, Foxconn Technolo...</td>\n",
       "    </tr>\n",
       "    <tr>\n",
       "      <th>36</th>\n",
       "      <td>Fortem Technologies</td>\n",
       "      <td>Government</td>\n",
       "      <td>Security</td>\n",
       "      <td>20.5</td>\n",
       "      <td>United States</td>\n",
       "      <td>Boeing HorizonX, Data Collective, Manifest Inv...</td>\n",
       "    </tr>\n",
       "    <tr>\n",
       "      <th>68</th>\n",
       "      <td>One Concern</td>\n",
       "      <td>Government</td>\n",
       "      <td>Disaster Management</td>\n",
       "      <td>53.29</td>\n",
       "      <td>United States</td>\n",
       "      <td>David Petraeus, Geodesic Capital, New Enterpri...</td>\n",
       "    </tr>\n",
       "    <tr>\n",
       "      <th>79</th>\n",
       "      <td>SenseTime</td>\n",
       "      <td>Government</td>\n",
       "      <td>Security</td>\n",
       "      <td>1630</td>\n",
       "      <td>China</td>\n",
       "      <td>Alibaba Group, Fidelity Investments, Qualcomm,...</td>\n",
       "    </tr>\n",
       "    <tr>\n",
       "      <th>81</th>\n",
       "      <td>Shield AI</td>\n",
       "      <td>Government</td>\n",
       "      <td>Security</td>\n",
       "      <td>23.15</td>\n",
       "      <td>United States</td>\n",
       "      <td>Andreessen Horowitz, Breyer Capital, Homebrew</td>\n",
       "    </tr>\n",
       "    <tr>\n",
       "      <th>98</th>\n",
       "      <td>YITU Technology</td>\n",
       "      <td>Government</td>\n",
       "      <td>Security</td>\n",
       "      <td>355.12</td>\n",
       "      <td>China</td>\n",
       "      <td>China Industrial Asset Management, Etisalat, H...</td>\n",
       "    </tr>\n",
       "  </tbody>\n",
       "</table>\n",
       "</div>"
      ],
      "text/plain": [
       "                company      sector           focus area  \\\n",
       "34               Face++  Government             Security   \n",
       "36  Fortem Technologies  Government             Security   \n",
       "68          One Concern  Government  Disaster Management   \n",
       "79            SenseTime  Government             Security   \n",
       "81            Shield AI  Government             Security   \n",
       "98      YITU Technology  Government             Security   \n",
       "\n",
       "   total disclosed\\nfunding ($m)        country  \\\n",
       "34                           608          China   \n",
       "36                          20.5  United States   \n",
       "68                         53.29  United States   \n",
       "79                          1630          China   \n",
       "81                         23.15  United States   \n",
       "98                        355.12          China   \n",
       "\n",
       "                                     select investors  \n",
       "34  Ant Financial Services Group, Foxconn Technolo...  \n",
       "36  Boeing HorizonX, Data Collective, Manifest Inv...  \n",
       "68  David Petraeus, Geodesic Capital, New Enterpri...  \n",
       "79  Alibaba Group, Fidelity Investments, Qualcomm,...  \n",
       "81      Andreessen Horowitz, Breyer Capital, Homebrew  \n",
       "98  China Industrial Asset Management, Etisalat, H...  "
      ]
     },
     "execution_count": 5,
     "metadata": {},
     "output_type": "execute_result"
    }
   ],
   "source": [
    "df[df['sector'] == 'Government']"
   ]
  },
  {
   "cell_type": "code",
   "execution_count": 6,
   "metadata": {},
   "outputs": [
    {
     "data": {
      "text/plain": [
       "Enterprise Tech            33\n",
       "Healthcare                 14\n",
       "Auto                       11\n",
       "Semiconductor               7\n",
       "Government                  6\n",
       "Industrials                 6\n",
       "Retail                      5\n",
       "Finance & Insurance         4\n",
       "Legal, Compliance, & HR     4\n",
       "Media                       3\n",
       "Finance & Insurance         2\n",
       "Agriculture                 2\n",
       "Real estate                 2\n",
       "Telecom                     1\n",
       "Name: sector, dtype: int64"
      ]
     },
     "execution_count": 6,
     "metadata": {},
     "output_type": "execute_result"
    }
   ],
   "source": [
    "df['sector'].value_counts()"
   ]
  },
  {
   "cell_type": "code",
   "execution_count": 7,
   "metadata": {},
   "outputs": [
    {
     "data": {
      "text/plain": [
       "count      98.000000\n",
       "mean      102.915408\n",
       "std       195.361886\n",
       "min         4.000000\n",
       "25%        25.212500\n",
       "50%        47.745000\n",
       "75%        91.100000\n",
       "max      1630.000000\n",
       "Name: total disclosed\\nfunding ($m), dtype: float64"
      ]
     },
     "execution_count": 7,
     "metadata": {},
     "output_type": "execute_result"
    }
   ],
   "source": [
    "df['total disclosed\\nfunding ($m)'] = [float(x) for x in df['total disclosed\\nfunding ($m)']]\n",
    "df['total disclosed\\nfunding ($m)'].describe()"
   ]
  },
  {
   "cell_type": "code",
   "execution_count": 8,
   "metadata": {},
   "outputs": [
    {
     "data": {
      "text/plain": [
       "United States     77\n",
       "Israel             6\n",
       "China              6\n",
       "United Kingdom     6\n",
       "Germany            1\n",
       "Sweden             1\n",
       "Canada             1\n",
       "Japan              1\n",
       "India              1\n",
       "Name: country, dtype: int64"
      ]
     },
     "execution_count": 8,
     "metadata": {},
     "output_type": "execute_result"
    }
   ],
   "source": [
    "df['country'].value_counts()"
   ]
  },
  {
   "cell_type": "code",
   "execution_count": 9,
   "metadata": {},
   "outputs": [
    {
     "data": {
      "text/plain": [
       "1    77\n",
       "0    23\n",
       "Name: is_US, dtype: int64"
      ]
     },
     "execution_count": 9,
     "metadata": {},
     "output_type": "execute_result"
    }
   ],
   "source": [
    "df['is_US'] = [1 if x == 'United States' else 0 for x in df['country']]\n",
    "df['is_US'].value_counts()"
   ]
  },
  {
   "cell_type": "code",
   "execution_count": 10,
   "metadata": {},
   "outputs": [
    {
     "name": "stdout",
     "output_type": "stream",
     "text": [
      "432\n",
      "272\n"
     ]
    }
   ],
   "source": [
    "df['select investors'] = [x.split(', ') if type(x) == str else x for x in df['select investors']]\n",
    "investors = []\n",
    "for i in list(df.index):\n",
    "    listy = [x.strip() for x in df.loc[i, 'select investors']]\n",
    "    investors.append(listy)\n",
    "df['select investors'] = investors\n",
    "\n",
    "all_investors = []\n",
    "for i in list(df.index):\n",
    "    investors = df.loc[i, 'select investors']\n",
    "    all_investors.extend(investors)\n",
    "    \n",
    "all_investors = pd.DataFrame(all_investors)\n",
    "print(len(all_investors))\n",
    "all_investors.columns = ['count']\n",
    "all_investors = pd.DataFrame(all_investors['count'].value_counts())\n",
    "print(len(all_investors))"
   ]
  },
  {
   "cell_type": "code",
   "execution_count": 11,
   "metadata": {},
   "outputs": [
    {
     "data": {
      "image/png": "[encoded data removed]",
      "text/plain": [
       "<Figure size 1440x216 with 1 Axes>"
      ]
     },
     "metadata": {
      "needs_background": "light"
     },
     "output_type": "display_data"
    }
   ],
   "source": [
    "df['investor count'] = [len(x) for x in df['select investors']]\n",
    "df['color'] = ['blue' if x == 'United States' else 'red' for x in df['country']]\n",
    "\n",
    "def rand_jitter(arr):\n",
    "    stdev = .015*(max(arr)-min(arr))\n",
    "    return arr + np.random.randn(len(arr)) * stdev\n",
    "\n",
    "plt.figure(figsize = (20, 3))\n",
    "plt.title('Total Disclosed Funding vs Number of Major Investors for CBI AI Top 100 (2019)')\n",
    "for which in list(set(df['is_US'])):\n",
    "    lil_df = df[df['is_US'] == which]\n",
    "    if which == 1:\n",
    "        name = 'U.S.-based company'\n",
    "    else:\n",
    "        name = 'Foreign company'\n",
    "    plt.scatter(\n",
    "        rand_jitter(lil_df['investor count']), \n",
    "        lil_df['total disclosed\\nfunding ($m)'], \n",
    "        color = lil_df['color'], \n",
    "        s = 15, \n",
    "        alpha = 0.8,\n",
    "        label = name\n",
    "    )\n",
    "plt.xlabel('number of select investors', fontsize = 12)\n",
    "plt.ylabel('total disclosed funding ($m)', fontsize = 12)\n",
    "plt.legend()\n",
    "plt.show();"
   ]
  },
  {
   "cell_type": "code",
   "execution_count": 12,
   "metadata": {},
   "outputs": [],
   "source": [
    "sectors = list(set(df['sector']))\n",
    "sectors = [x for x in sectors]\n",
    "new_sectors = []\n",
    "for sector in sectors:\n",
    "    lil_df = df[df['sector'] == sector]\n",
    "    colname = sector.replace('\\xa0', ' ') \n",
    "    new_sectors.append(colname)\n",
    "    col = []\n",
    "    for investor in list(all_investors.index):\n",
    "        count = 0\n",
    "        for startup in lil_df['company']:\n",
    "            liller_df = lil_df[lil_df['company'] == startup]\n",
    "            if investor in liller_df['select investors'].values[0]:\n",
    "                count += 1\n",
    "        col.append(count)\n",
    "    all_investors[colname] = col"
   ]
  },
  {
   "cell_type": "code",
   "execution_count": 13,
   "metadata": {},
   "outputs": [
    {
     "data": {
      "text/plain": [
       "count                      432\n",
       "Industrials                 23\n",
       "Legal, Compliance, & HR     17\n",
       "Semiconductor               26\n",
       "Healthcare                  59\n",
       "Retail                      24\n",
       "Media                       14\n",
       "Finance & Insurance         10\n",
       "Agriculture                  9\n",
       "Enterprise Tech            146\n",
       "Real estate                  8\n",
       "Government                  27\n",
       "Auto                        48\n",
       "Telecom                      4\n",
       "dtype: int64"
      ]
     },
     "execution_count": 13,
     "metadata": {},
     "output_type": "execute_result"
    }
   ],
   "source": [
    "all_investors.sum()"
   ]
  },
  {
   "cell_type": "code",
   "execution_count": 14,
   "metadata": {},
   "outputs": [
    {
     "data": {
      "text/plain": [
       "Telecom                      4\n",
       "Real estate                  8\n",
       "Agriculture                  9\n",
       "Finance & Insurance         10\n",
       "Media                       14\n",
       "Legal, Compliance, & HR     17\n",
       "Industrials                 23\n",
       "Retail                      24\n",
       "Semiconductor               26\n",
       "Government                  27\n",
       "Auto                        48\n",
       "Healthcare                  59\n",
       "Enterprise Tech            146\n",
       "count                      432\n",
       "dtype: int64"
      ]
     },
     "execution_count": 14,
     "metadata": {},
     "output_type": "execute_result"
    }
   ],
   "source": [
    "all_investors.sum().sort_values()"
   ]
  },
  {
   "cell_type": "code",
   "execution_count": 15,
   "metadata": {},
   "outputs": [
    {
     "data": {
      "text/plain": [
       "Enterprise Tech            146\n",
       "Healthcare                  59\n",
       "Auto                        48\n",
       "Government                  27\n",
       "Semiconductor               26\n",
       "Retail                      24\n",
       "Industrials                 23\n",
       "Legal, Compliance, & HR     17\n",
       "Media                       14\n",
       "Finance & Insurance         10\n",
       "Agriculture                  9\n",
       "Real estate                  8\n",
       "Telecom                      4\n",
       "dtype: int64"
      ]
     },
     "execution_count": 15,
     "metadata": {},
     "output_type": "execute_result"
    }
   ],
   "source": [
    "all_investors = all_investors[list(all_investors.drop('count', axis = 1).sum().sort_values().index[::-1])]\n",
    "all_investors.sum()"
   ]
  },
  {
   "cell_type": "code",
   "execution_count": 43,
   "metadata": {},
   "outputs": [],
   "source": [
    "countries = list(set(df['country']))\n",
    "country_dict = {}\n",
    "for investor in list(all_investors.index):\n",
    "    country_dict.update({investor : []})\n",
    "    \n",
    "for country in countries:\n",
    "    lil_df = df[df['country'] == country]\n",
    "    for investor in list(all_investors.index):\n",
    "        for startup in lil_df['company']:\n",
    "            liller_df = lil_df[lil_df['company'] == startup]\n",
    "            if investor in liller_df['select investors'].values[0]:\n",
    "                country_dict[investor] = list(set(country_dict[investor] + [country]))"
   ]
  },
  {
   "cell_type": "code",
   "execution_count": 46,
   "metadata": {},
   "outputs": [
    {
     "data": {
      "text/plain": [
       "{'United States': 'a',\n",
       " 'Israel': 'b',\n",
       " 'China': 'c',\n",
       " 'United Kingdom': 'd',\n",
       " 'Germany': 'e',\n",
       " 'Sweden': 'f',\n",
       " 'Canada': 'g',\n",
       " 'Japan': 'h',\n",
       " 'India': 'i'}"
      ]
     },
     "execution_count": 46,
     "metadata": {},
     "output_type": "execute_result"
    }
   ],
   "source": [
    "country_numbers = dict(zip(list(df['country'].value_counts().index), ['a', 'b', 'c', 'd', 'e', 'f', 'g', 'h', 'i']))\n",
    "\n",
    "country_numbers"
   ]
  },
  {
   "cell_type": "code",
   "execution_count": 80,
   "metadata": {},
   "outputs": [
    {
     "data": {
      "text/html": [
       "<div>\n",
       "<style scoped>\n",
       "    .dataframe tbody tr th:only-of-type {\n",
       "        vertical-align: middle;\n",
       "    }\n",
       "\n",
       "    .dataframe tbody tr th {\n",
       "        vertical-align: top;\n",
       "    }\n",
       "\n",
       "    .dataframe thead th {\n",
       "        text-align: right;\n",
       "    }\n",
       "</style>\n",
       "<table border=\"1\" class=\"dataframe\">\n",
       "  <thead>\n",
       "    <tr style=\"text-align: right;\">\n",
       "      <th></th>\n",
       "      <th>country</th>\n",
       "      <th>letter</th>\n",
       "    </tr>\n",
       "  </thead>\n",
       "  <tbody>\n",
       "    <tr>\n",
       "      <th>0</th>\n",
       "      <td>United States</td>\n",
       "      <td>a</td>\n",
       "    </tr>\n",
       "    <tr>\n",
       "      <th>1</th>\n",
       "      <td>Israel</td>\n",
       "      <td>b</td>\n",
       "    </tr>\n",
       "    <tr>\n",
       "      <th>2</th>\n",
       "      <td>China</td>\n",
       "      <td>c</td>\n",
       "    </tr>\n",
       "    <tr>\n",
       "      <th>3</th>\n",
       "      <td>United Kingdom</td>\n",
       "      <td>d</td>\n",
       "    </tr>\n",
       "    <tr>\n",
       "      <th>4</th>\n",
       "      <td>Germany</td>\n",
       "      <td>e</td>\n",
       "    </tr>\n",
       "    <tr>\n",
       "      <th>5</th>\n",
       "      <td>Sweden</td>\n",
       "      <td>f</td>\n",
       "    </tr>\n",
       "    <tr>\n",
       "      <th>6</th>\n",
       "      <td>Canada</td>\n",
       "      <td>g</td>\n",
       "    </tr>\n",
       "    <tr>\n",
       "      <th>7</th>\n",
       "      <td>Japan</td>\n",
       "      <td>h</td>\n",
       "    </tr>\n",
       "    <tr>\n",
       "      <th>8</th>\n",
       "      <td>India</td>\n",
       "      <td>i</td>\n",
       "    </tr>\n",
       "  </tbody>\n",
       "</table>\n",
       "</div>"
      ],
      "text/plain": [
       "          country letter\n",
       "0   United States      a\n",
       "1          Israel      b\n",
       "2           China      c\n",
       "3  United Kingdom      d\n",
       "4         Germany      e\n",
       "5          Sweden      f\n",
       "6          Canada      g\n",
       "7           Japan      h\n",
       "8           India      i"
      ]
     },
     "execution_count": 80,
     "metadata": {},
     "output_type": "execute_result"
    }
   ],
   "source": [
    "country_legend = pd.DataFrame()\n",
    "country_legend['country'] = country_numbers.keys()\n",
    "country_legend['letter'] = country_numbers.values()\n",
    "country_legend"
   ]
  },
  {
   "cell_type": "code",
   "execution_count": 76,
   "metadata": {},
   "outputs": [],
   "source": [
    "investor_labels = []\n",
    "for investor in list(all_investors.index):\n",
    "    listy = ''\n",
    "    for which in sorted(list(set(country_dict[investor]))):\n",
    "        listy += country_numbers[which]\n",
    "    listy = '{' + ''.join(sorted(listy)) + '}'\n",
    "    name = r'$' + investor + '$^{}$'.format(listy)\n",
    "    name = name[1:]\n",
    "    investor_labels.append(name)"
   ]
  },
  {
   "cell_type": "code",
   "execution_count": 63,
   "metadata": {},
   "outputs": [
    {
     "data": {
      "text/plain": [
       "2     33\n",
       "3     10\n",
       "5      9\n",
       "4      6\n",
       "6      2\n",
       "14     1\n",
       "10     1\n",
       "9      1\n",
       "7      1\n",
       "Name: count, dtype: int64"
      ]
     },
     "execution_count": 63,
     "metadata": {},
     "output_type": "execute_result"
    }
   ],
   "source": [
    "all_investors['count'] = all_investors.sum(axis = 1).values\n",
    "all_investors['count'].value_counts()"
   ]
  },
  {
   "cell_type": "code",
   "execution_count": 64,
   "metadata": {},
   "outputs": [],
   "source": [
    "all_investors = all_investors[all_investors['count'] > 1]\n",
    "all_investors.sort_values('count', ascending = False, inplace = True)\n",
    "all_investors.drop('count', axis = 1, inplace = True)"
   ]
  },
  {
   "cell_type": "code",
   "execution_count": 65,
   "metadata": {
    "scrolled": false
   },
   "outputs": [
    {
     "name": "stdout",
     "output_type": "stream",
     "text": [
      "13\n"
     ]
    },
    {
     "data": {
      "image/png": "[encoded data removed]",
      "text/plain": [
       "<Figure size 720x1080 with 1 Axes>"
      ]
     },
     "metadata": {
      "needs_background": "light"
     },
     "output_type": "display_data"
    }
   ],
   "source": [
    "fig, ax = plt.subplots(figsize = (10, 15))\n",
    "ax.set_title('Outside Funding Counts for CBI AI Top 100 (2019)', fontsize = 18)\n",
    "\n",
    "ind = range(len(all_investors))\n",
    "left = np.zeros(len(list(all_investors.index)))\n",
    "cm = plt.get_cmap('tab20')\n",
    "NUM_COLORS = len(all_investors.columns)\n",
    "print(NUM_COLORS)\n",
    "ax.set_prop_cycle('color', [cm(1.*i/NUM_COLORS) for i in range(NUM_COLORS)])\n",
    "\n",
    "for sector in list(all_investors.columns):\n",
    "    bt = plt.barh(\n",
    "        ind, \n",
    "        all_investors[sector], \n",
    "        label = sector + ' (' + str(len(df[df['sector'] == sector])) + ')',\n",
    "        left = left\n",
    "    )\n",
    "    left += all_investors[sector]\n",
    "    \n",
    "ax.set(\n",
    "    yticks = ind,\n",
    "    yticklabels = investor_labels\n",
    ")\n",
    "plt.tick_params(axis = 'both', which = 'major', labelsize = 10)\n",
    "plt.xlabel('Number of CBI AI Top 100 Investments', fontsize = 18)\n",
    "plt.figtext(0.89, 0.13, 'see: https://www.cbinsights.com/research/artificial-intelligence-top-startups/', horizontalalignment = 'right')\n",
    "plt.figtext(0.89, 0.14, '© Rebecca Vitale 2019', horizontalalignment = 'right')\n",
    "\n",
    "plt.legend(title = 'SECTOR')\n",
    "plt.show();"
   ]
  },
  {
   "cell_type": "code",
   "execution_count": null,
   "metadata": {},
   "outputs": [],
   "source": []
  }
 ],
 "metadata": {
  "kernelspec": {
   "display_name": "Python 3",
   "language": "python",
   "name": "python3"
  },
  "language_info": {
   "codemirror_mode": {
    "name": "ipython",
    "version": 3
   },
   "file_extension": ".py",
   "mimetype": "text/x-python",
   "name": "python",
   "nbconvert_exporter": "python",
   "pygments_lexer": "ipython3",
   "version": "3.7.1"
  }
 },
 "nbformat": 4,
 "nbformat_minor": 2
}
